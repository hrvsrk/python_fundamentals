{
 "cells": [
  {
   "cell_type": "code",
   "execution_count": null,
   "metadata": {},
   "outputs": [],
   "source": [
    "# special methods of class\n",
    "\n",
    "# introduction to constructor - initializer, automatically invokes the attributes inside it\n",
    "\n",
    "# constructor is denoted as def __init__ \"double underscore is used along with init\""
   ]
  },
  {
   "cell_type": "code",
   "execution_count": 5,
   "metadata": {},
   "outputs": [],
   "source": [
    "class Dog:\n",
    "    \"\"\"A simple attempt to model a dog\"\"\"\n",
    "    \n",
    "    def __init__(self,name,age):\n",
    "        self.name = name\n",
    "        self.age = age\n",
    "        print(\"Successfully executed and called out\")\n",
    "        \n",
    "    def sit(self):\n",
    "        \"\"\"Make the dog sit\"\"\"\n",
    "        print(f\" {self.name} is sitting\")\n",
    "        \n",
    "    def rollover(self):\n",
    "        \"\"\"Make the dog rollover\"\"\"\n",
    "        print(f\" {self.name} has rolled over\")"
   ]
  },
  {
   "cell_type": "code",
   "execution_count": 6,
   "metadata": {},
   "outputs": [
    {
     "name": "stdout",
     "output_type": "stream",
     "text": [
      "Successfully executed and called out\n"
     ]
    }
   ],
   "source": [
    "dobj = Dog('Braggi',4) # execution of class "
   ]
  },
  {
   "cell_type": "code",
   "execution_count": 7,
   "metadata": {},
   "outputs": [
    {
     "name": "stdout",
     "output_type": "stream",
     "text": [
      " Braggi is sitting\n"
     ]
    }
   ],
   "source": [
    "dobj.sit()"
   ]
  },
  {
   "cell_type": "code",
   "execution_count": 8,
   "metadata": {},
   "outputs": [
    {
     "name": "stdout",
     "output_type": "stream",
     "text": [
      " Braggi has rolled over\n"
     ]
    }
   ],
   "source": [
    "dobj.rollover()"
   ]
  },
  {
   "cell_type": "code",
   "execution_count": null,
   "metadata": {},
   "outputs": [],
   "source": [
    "# Requirement: Assigning parameters\n",
    "\n",
    "# name, age\n",
    "\n",
    "# passing arbitrary number of arguments"
   ]
  },
  {
   "cell_type": "code",
   "execution_count": 11,
   "metadata": {},
   "outputs": [],
   "source": [
    "def pizza(*toppings): # in this case * allows to accept maximum number of inputs without limit\n",
    "    \"\"\"print the list of toppings that have to be requested\"\"\"\n",
    "    print(toppings)"
   ]
  },
  {
   "cell_type": "code",
   "execution_count": 12,
   "metadata": {},
   "outputs": [
    {
     "name": "stdout",
     "output_type": "stream",
     "text": [
      "('Olives', 'Pickles', 'Corn')\n"
     ]
    }
   ],
   "source": [
    "pizza('Olives','Pickles','Corn') # in this case inspite of not defining the arguments limit it is being accepted"
   ]
  },
  {
   "cell_type": "code",
   "execution_count": null,
   "metadata": {},
   "outputs": [],
   "source": [
    "# enhancement of code"
   ]
  },
  {
   "cell_type": "code",
   "execution_count": 5,
   "metadata": {},
   "outputs": [],
   "source": [
    "def pizza(*toppings):\n",
    "    \"\"\"print the list of toppings that have been requested\"\"\"\n",
    "    print(f\"\\nMaking a pizza with the following toppings:\")\n",
    "    for topping in toppings:\n",
    "        print(f\" - {topping}\")"
   ]
  },
  {
   "cell_type": "code",
   "execution_count": 6,
   "metadata": {},
   "outputs": [
    {
     "name": "stdout",
     "output_type": "stream",
     "text": [
      "\n",
      "Making a pizza with the following toppings:\n",
      " - Olives\n",
      " - Mushroom\n",
      " - Corn\n"
     ]
    }
   ],
   "source": [
    "pizza('Olives','Mushroom','Corn')"
   ]
  },
  {
   "cell_type": "code",
   "execution_count": null,
   "metadata": {},
   "outputs": [],
   "source": [
    "# requirement: define size of the pizza"
   ]
  },
  {
   "cell_type": "code",
   "execution_count": 22,
   "metadata": {},
   "outputs": [],
   "source": [
    "def pizza(size,*toppings):\n",
    "    \"\"\"print the list of toppings,size that has been requested\"\"\"\n",
    "    print(f\"Ordered {size}'in pizza with toppings - {toppings}\")"
   ]
  },
  {
   "cell_type": "code",
   "execution_count": 23,
   "metadata": {},
   "outputs": [
    {
     "name": "stdout",
     "output_type": "stream",
     "text": [
      "Ordered 16'in pizza with toppings - ('Olives', 'Mushroom', 'Corn')\n"
     ]
    }
   ],
   "source": [
    "pizza(16,'Olives','Mushroom','Corn')"
   ]
  },
  {
   "cell_type": "code",
   "execution_count": null,
   "metadata": {},
   "outputs": [],
   "source": []
  },
  {
   "cell_type": "code",
   "execution_count": null,
   "metadata": {},
   "outputs": [],
   "source": []
  },
  {
   "cell_type": "code",
   "execution_count": null,
   "metadata": {},
   "outputs": [],
   "source": []
  },
  {
   "cell_type": "code",
   "execution_count": null,
   "metadata": {},
   "outputs": [],
   "source": []
  },
  {
   "cell_type": "code",
   "execution_count": null,
   "metadata": {},
   "outputs": [],
   "source": []
  }
 ],
 "metadata": {
  "kernelspec": {
   "display_name": "Python 3",
   "language": "python",
   "name": "python3"
  },
  "language_info": {
   "codemirror_mode": {
    "name": "ipython",
    "version": 3
   },
   "file_extension": ".py",
   "mimetype": "text/x-python",
   "name": "python",
   "nbconvert_exporter": "python",
   "pygments_lexer": "ipython3",
   "version": "3.7.4"
  }
 },
 "nbformat": 4,
 "nbformat_minor": 2
}
