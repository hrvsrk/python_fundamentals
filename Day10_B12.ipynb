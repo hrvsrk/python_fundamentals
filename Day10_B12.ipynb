{
 "cells": [
  {
   "cell_type": "code",
   "execution_count": null,
   "metadata": {},
   "outputs": [],
   "source": [
    "# introduction to for loops in dictionary\n",
    "# looping through all key value pairs"
   ]
  },
  {
   "cell_type": "code",
   "execution_count": 2,
   "metadata": {},
   "outputs": [
    {
     "name": "stdout",
     "output_type": "stream",
     "text": [
      "{'username': 'Viswa', 'first_name': 'Kiran', 'last_name': 'Dev'}\n"
     ]
    }
   ],
   "source": [
    "user_0 = {'username':'Viswa','first_name':'Kiran','last_name':'Dev'}\n",
    "\n",
    "print(user_0)"
   ]
  },
  {
   "cell_type": "code",
   "execution_count": 4,
   "metadata": {},
   "outputs": [
    {
     "name": "stdout",
     "output_type": "stream",
     "text": [
      "\n",
      "key: username\n",
      "\n",
      "value: Viswa\n",
      "\n",
      "key: first_name\n",
      "\n",
      "value: Kiran\n",
      "\n",
      "key: last_name\n",
      "\n",
      "value: Dev\n"
     ]
    }
   ],
   "source": [
    "for key,value in user_0.items():\n",
    "    print(f\"\\nkey: {key}\")\n",
    "    print(f\"\\nvalue: {value}\")"
   ]
  },
  {
   "cell_type": "code",
   "execution_count": 8,
   "metadata": {},
   "outputs": [
    {
     "name": "stdout",
     "output_type": "stream",
     "text": [
      "\n",
      "abc: username\n",
      "\n",
      "xyz: Viswa\n",
      "\n",
      "abc: first_name\n",
      "\n",
      "xyz: Kiran\n",
      "\n",
      "abc: last_name\n",
      "\n",
      "xyz: Dev\n"
     ]
    }
   ],
   "source": [
    "#for tempvar in mainvar:\n",
    "#    print(tempvar)\n",
    "    \n",
    "#for key,value is user_0.items():\n",
    "#    print(f\"\\nKey: {key}\")\n",
    "#    print(f\"\\nValue: {value}\")\n",
    "    \n",
    "for x,y in user_0.items(): # x,y has been used as temporary variable\n",
    "    print(f\"\\nabc: {x}\") # Key: predefined by using f strings\n",
    "    print(f\"\\nxyz: {y}\") # Value: predefined by using f strings"
   ]
  },
  {
   "cell_type": "code",
   "execution_count": null,
   "metadata": {},
   "outputs": [],
   "source": [
    "# requirement: to retrieve keys using for loop"
   ]
  },
  {
   "cell_type": "code",
   "execution_count": 11,
   "metadata": {},
   "outputs": [
    {
     "name": "stdout",
     "output_type": "stream",
     "text": [
      "Username\n",
      "First_Name\n",
      "Last_Name\n"
     ]
    }
   ],
   "source": [
    "for name in user_0.keys():\n",
    "    print(name.title())"
   ]
  },
  {
   "cell_type": "code",
   "execution_count": null,
   "metadata": {},
   "outputs": [],
   "source": [
    "# requirement: to retrieve value using for loop"
   ]
  },
  {
   "cell_type": "code",
   "execution_count": 14,
   "metadata": {},
   "outputs": [
    {
     "name": "stdout",
     "output_type": "stream",
     "text": [
      "Viswa\n",
      "Kiran\n",
      "Dev\n"
     ]
    }
   ],
   "source": [
    "for test in user_0.values():\n",
    "    print(test.title())"
   ]
  },
  {
   "cell_type": "code",
   "execution_count": null,
   "metadata": {},
   "outputs": [],
   "source": [
    "# introduction to while loops\n",
    "# as long as or till the condition is true the program will be executed"
   ]
  },
  {
   "cell_type": "code",
   "execution_count": 15,
   "metadata": {},
   "outputs": [
    {
     "name": "stdout",
     "output_type": "stream",
     "text": [
      "1\n",
      "2\n",
      "3\n",
      "4\n",
      "5\n"
     ]
    }
   ],
   "source": [
    "current_num = 1\n",
    "\n",
    "while current_num<=5: # to print numbers using while loop till the numbers reach 5\n",
    "    print(current_num)\n",
    "    current_num +=1"
   ]
  },
  {
   "cell_type": "code",
   "execution_count": null,
   "metadata": {},
   "outputs": [],
   "source": [
    "# introduction to python functions\n",
    "# this helps in code reusability\n",
    "# once written can be recalled any number of times"
   ]
  },
  {
   "cell_type": "code",
   "execution_count": 20,
   "metadata": {},
   "outputs": [],
   "source": [
    "def greet_user():\n",
    "    \"\"\"Display a simple hello\"\"\" # anything denoted with \"\"\"\"\"\" is called a doc string\n",
    "\n",
    "    print('Hello') "
   ]
  },
  {
   "cell_type": "code",
   "execution_count": 21,
   "metadata": {},
   "outputs": [
    {
     "name": "stdout",
     "output_type": "stream",
     "text": [
      "Hello\n"
     ]
    }
   ],
   "source": [
    "greet_user() # function call"
   ]
  },
  {
   "cell_type": "code",
   "execution_count": null,
   "metadata": {},
   "outputs": [],
   "source": [
    "# requirement: print content with input from user"
   ]
  },
  {
   "cell_type": "code",
   "execution_count": 23,
   "metadata": {},
   "outputs": [],
   "source": [
    "def greet_user(username):\n",
    "    \"\"\"Display a simple hello\"\"\"\n",
    "    \n",
    "    print(f\"Welcome back again, {username.title()}\")"
   ]
  },
  {
   "cell_type": "code",
   "execution_count": 24,
   "metadata": {},
   "outputs": [
    {
     "name": "stdout",
     "output_type": "stream",
     "text": [
      "Welcome back again, Sandeep\n"
     ]
    }
   ],
   "source": [
    "greet_user('Sandeep')"
   ]
  },
  {
   "cell_type": "code",
   "execution_count": null,
   "metadata": {},
   "outputs": [],
   "source": []
  }
 ],
 "metadata": {
  "kernelspec": {
   "display_name": "Python 3",
   "language": "python",
   "name": "python3"
  },
  "language_info": {
   "codemirror_mode": {
    "name": "ipython",
    "version": 3
   },
   "file_extension": ".py",
   "mimetype": "text/x-python",
   "name": "python",
   "nbconvert_exporter": "python",
   "pygments_lexer": "ipython3",
   "version": "3.7.4"
  }
 },
 "nbformat": 4,
 "nbformat_minor": 2
}
